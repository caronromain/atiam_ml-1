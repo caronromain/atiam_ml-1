{
 "cells": [
  {
   "cell_type": "markdown",
   "metadata": {},
   "source": [
    "# Music machine learning - Neural networks\n",
    "\n",
    "### Author: Philippe Esling (esling@ircam.fr)\n",
    "\n",
    "In this course we will cover\n",
    "1. A [quick introduction](#intro) on the code that we will adress and auxiliary functions\n",
    "2. A simple implementation for a [single neuron](#single)\n",
    "3. An implementation of [regression](#implem) using scikit-learn\n",
    "4. Some [common good practices](#practices) in machine learning"
   ]
  },
  {
   "cell_type": "markdown",
   "metadata": {},
   "source": [
    "# Introducing neural networks"
   ]
  },
  {
   "cell_type": "markdown",
   "metadata": {},
   "source": [
    "In this tutorial, we will cover a more advanced classification algorithm through the use of *neural networks*. The tutorial starts by performing a simple **single neuron** discrimination of two random distributions. Then, we will study the typical **XOR problem** by using a more advanced 2-layer **perceptron**. Finally, we generalize the use of neural networks in order to perform classification on a given set of audio files."
   ]
  },
  {
   "cell_type": "markdown",
   "metadata": {},
   "source": [
    "We are going to use relatively _low-level_ libraries to perform the first exercises (implementing your own neurons)"
   ]
  },
  {
   "cell_type": "code",
   "execution_count": 1,
   "metadata": {},
   "outputs": [],
   "source": [
    "import time\n",
    "import numpy as np\n",
    "%matplotlib inline\n",
    "from matplotlib import pyplot as plt"
   ]
  },
  {
   "cell_type": "markdown",
   "metadata": {},
   "source": [
    "To simplify your work, we provide a first set of functions that provides simple plotting functionnalities (from the `helper_plot.py` file)\n",
    "\n",
    "  |**File**|*Explanation*|\n",
    "  |-------:|:---------|\n",
    "  |`plot_boundary`|Plots the decision boundary of a single neuron with 2-dimensional inputs|\n",
    "  |`plot_patterns`|Plots (bi-dimensionnal) input patterns|"
   ]
  },
  {
   "cell_type": "code",
   "execution_count": 2,
   "metadata": {
    "scrolled": true
   },
   "outputs": [],
   "source": [
    "from helper_plot import plot_boundary\n",
    "from helper_plot import plot_patterns"
   ]
  },
  {
   "cell_type": "markdown",
   "metadata": {},
   "source": [
    "Remember that a single neuron is only able to learn _linearly separable_ problems. To produce such classes of problems, we provide a script that draw a set of random 2-dimensional points, then choose a random line in this space that will act as the linear frontier between 2 classes (hence defining a linear 2-class problem). The variables that will be used by your code are the following.  \n",
    "\n",
    "```Matlab\n",
    "desired       % classes of the patterns \n",
    "inputs        % 2 x n final matrix of random input patterns\n",
    "weights       % 2 x 1 vector of neuron weights\n",
    "bias          % 1 x 1 vector of bias\n",
    "```\n",
    "\n",
    "You can execute the code below to see our simple classification problem. (Note that running the same cell multiple times produces a different starting dataset)."
   ]
  },
  {
   "cell_type": "code",
   "execution_count": 3,
   "metadata": {},
   "outputs": [
    {
     "name": "stdout",
     "output_type": "stream",
     "text": [
      "[[-0.37697623 -0.72528002  0.44987139 -0.92131662  0.43731115  0.6210419\n",
      "   0.56966874 -0.467286    0.10246219 -0.93354709  0.91864001 -0.80540233\n",
      "   0.01758968 -0.79853124 -0.60882439  0.96844503  0.14274505  0.20387589\n",
      "  -0.98584713 -0.58906783 -0.6434699  -0.41715826  0.54299626  0.03477414\n",
      "   0.04984563 -0.33192143 -0.06092884 -0.08433345 -0.46241175  0.80560385\n",
      "  -0.24819758 -0.79197032  0.2216074  -0.99876623 -0.32344251  0.84459363\n",
      "   0.7301873 ]\n",
      " [ 0.24281582  0.99343157 -0.89941523  0.85150329 -0.14601335  0.49209642\n",
      "   0.13392664 -0.50650455  0.23963887 -0.78008967 -0.29039754  0.33031481\n",
      "  -0.06885918 -0.677677    0.52019198 -0.55104779  0.09336569 -0.63138106\n",
      "   0.33208536 -0.82112043  0.51796517 -0.270491   -0.99126491  0.26840565\n",
      "   0.75454621 -0.32486599  0.56610389  0.16406259  0.72884077  0.36650577\n",
      "  -0.13253884  0.40646705 -0.79251153 -0.31632947 -0.00449169 -0.80244265\n",
      "   0.45613726]]\n",
      "[1 1 0 1 0 1 0 1 1 1 0 1 1 1 1 0 1 0 1 1 1 1 0 1 1 1 1 1 1 0 1 1 0 1 1 0 1]\n"
     ]
    },
    {
     "data": {
      "image/png": "[encoded data removed]",
      "text/plain": [
       "<Figure size 720x576 with 1 Axes>"
      ]
     },
     "metadata": {},
     "output_type": "display_data"
    }
   ],
   "source": [
    "# Number of points to generate\n",
    "nPats = 30 + np.floor(np.random.rand() * 30);\n",
    "# Generate 2-dimensional random points\n",
    "patterns = np.random.rand(2, int(nPats)) * 2 - 1;\n",
    "print(patterns)\n",
    "# Slope of separating line\n",
    "slope = np.log(np.random.rand() * 10);\n",
    "yint = np.random.rand() * 2 - 1;\n",
    "# Create the indexes for a two-class problem\n",
    "desired = (patterns[1,:] - patterns[0,:] * slope - yint > 0) * 1;\n",
    "# Plot the corresponding pattern\n",
    "fig = plot_patterns(patterns,desired);\n",
    "print(desired)"
   ]
  },
  {
   "cell_type": "markdown",
   "metadata": {},
   "source": [
    "## Single neuron\n",
    "\n",
    "For the first parts of the tutorial, we will perform the simplest classification model possible in a neural network setting, a single neuron. We briefly recall here that; given an input vector $ \\mathbf{x} \\in \\mathbb{R}^{n} $, a single neuron computes the function  \n",
    "\n",
    "$$\n",
    "\\begin{equation}\n",
    "\\hat{y}=\\phi\\left(\\sum_{i = 1}^{n}w_{i}.x_{i} + b\\right)\n",
    "\\label{eq1}\n",
    "\\end{equation}\n",
    "$$\n",
    "\n",
    "with $ \\mathbf{w} \\in \\mathbb{R}^{n} $ a weight vector, $ b $ a bias and $ \\phi\\left(\\cdot\\right) $ an *activation function*. Therefore, if we consider the *threshold* activation function ($ \\phi_{0}\\left(x\\right)=1 $ if $ x \\geq 0$), a single neuron simply performs an *affine transform* and then a *linear* discrimination of the space. A network will be composed of _layers_ of these neurons, which produce successive computations\n",
    "\n",
    "<img src=\"images/02_feedforward_nn.png\" align=\"center\"/>\n",
    "\n",
    "Geometrically, a single neuron computes an hyperplane that separates the space. In order to learn, we have to adjust the weights and know \"how much wrong we are\". To do so, we consider that we know the desired output $ d $ of a system for a given example $ \\mathbf{x} $ (eg. a predicted value for a regression system, a class value for a classification system). Therefore, we define the loss function $ \\mathcal{L}_{\\mathcal{D}} $ over a whole dataset as\n",
    "\n",
    "$$\n",
    "\\begin{equation}\n",
    "\\mathcal{L}_{\\mathcal{D}}=\\sum_{j=1}^{k_{\\mathcal{D}}}\\left\\Vert y_{j}-\\hat{y}_{j}\\right\\Vert ^{2}\n",
    "\\label{eq2}\n",
    "\\end{equation}\n",
    "$$\n",
    "\n",
    "In order to know how to change the weights based on the value of the errors, we need to now \"how to change it to make it better\". Therefore, we should compute the sets of derivatives of the error given each parameter\n",
    "\n",
    "$$\n",
    "\\begin{equation}\n",
    "\\Delta\\bar{\\mathbf{w}}=\\left(\\frac{\\delta\\mathcal{L}}}{\\delta w_{1}},\\ldots,\\frac{\\delta\\mathcal{L}}}{\\delta w_{n}}\\right)\n",
    "\\label{eq3}\n",
    "\\end{equation}\n",
    "$$ \n",
    "\n",
    "***\n",
    "\n",
    "**Exercise**  \n",
    "\n",
    "  1. Perform the derivatives of the output given a single neuron\n",
    "  2. Perform the derivatives for the bias as well\n",
    "\n",
    "***\n",
    "\n",
    "1 : $\\frac{\\partial L}{\\partial w_{i}}=2.(y-\\tilde{y}).x_{i}$\n",
    "\n",
    "2 : $\\frac{\\partial L}{\\partial b}=2.(y-\\tilde{y})$"
   ]
  },
  {
   "cell_type": "markdown",
   "metadata": {},
   "source": [
    "### Training your own neuron\n",
    "\n",
    "We will start by training a single neuron to learn how to perform this discrimination with a linear problem (so that a single neuron is enough to solve it). "
   ]
  },
  {
   "cell_type": "code",
   "execution_count": 4,
   "metadata": {},
   "outputs": [
    {
     "name": "stdout",
     "output_type": "stream",
     "text": [
      "[[-1.72349162  0.92098501]]\n"
     ]
    }
   ],
   "source": [
    "# Inputs to use\n",
    "inputs = patterns;\n",
    "# Initialize the weights\n",
    "weights = np.random.randn(1, 2);\n",
    "bias = np.random.randn(1, 1)\n",
    "# Learning rate\n",
    "eta = 0.2;\n",
    "# Weight decay\n",
    "lambdaW = 0.01\n",
    "#print(inputs)\n",
    "#print(inputs[1])\n",
    "#print(inputs[1][2])\n",
    "print(weights)\n",
    "#print(weights[0][1])\n",
    "#print(bias)"
   ]
  },
  {
   "cell_type": "markdown",
   "metadata": {},
   "source": [
    "Now you need to update the following code loop to ensure that your neuron learns to separate between the classes \n",
    "***\n",
    "\n",
    "**Exercise**\n",
    "  1. Update the loop so that it computes the forward propagation error\n",
    "  2. Update the loop to perform learning (based on back-propagation)\n",
    "  3. Run the learning procedure, which should produce a result similar to that displayed on the website\n",
    "  4. Perform multiple re-runs by **tweaking the hyperparameters** (learning rate, weight decay)\n",
    "  5. What observations can you make on the learning process?\n",
    "  6. (Optional) Change the input patterns, and confirm your observations.\n",
    "  6. (Optional) Incorporate the bias in the weights to obtain a **vectorized** code.\n",
    "\n",
    "***"
   ]
  },
  {
   "cell_type": "code",
   "execution_count": 5,
   "metadata": {},
   "outputs": [
    {
     "name": "stdout",
     "output_type": "stream",
     "text": [
      " 0.  weights = 0.210670, -1.715576, 1.019496\n",
      " 1.  weights = 0.410670, -1.591368, 1.117915\n",
      " 2.  weights = 0.610670, -1.467160, 1.216334\n",
      " 3.  weights = 0.610670, -1.467160, 1.216334\n",
      " 4.  weights = 0.610670, -1.467160, 1.216334\n",
      " 5.  weights = 0.610670, -1.467160, 1.216334\n",
      " 6.  weights = 0.610670, -1.467160, 1.216334\n",
      " 7.  weights = 0.610670, -1.467160, 1.216334\n",
      " 8.  weights = 0.610670, -1.467160, 1.216334\n",
      " 9.  weights = 0.610670, -1.467160, 1.216334\n",
      "10.  weights = 0.610670, -1.467160, 1.216334\n",
      "11.  weights = 0.610670, -1.467160, 1.216334\n",
      "12.  weights = 0.610670, -1.467160, 1.216334\n",
      "13.  weights = 0.610670, -1.467160, 1.216334\n",
      "14.  weights = 0.610670, -1.467160, 1.216334\n",
      "15.  weights = 0.610670, -1.467160, 1.216334\n",
      "16.  weights = 0.610670, -1.467160, 1.216334\n",
      "17.  weights = 0.610670, -1.467160, 1.216334\n",
      "18.  weights = 0.610670, -1.467160, 1.216334\n",
      "19.  weights = 0.610670, -1.467160, 1.216334\n",
      "20.  weights = 0.610670, -1.467160, 1.216334\n",
      "21.  weights = 0.610670, -1.467160, 1.216334\n",
      "22.  weights = 0.610670, -1.467160, 1.216334\n",
      "23.  weights = 0.610670, -1.467160, 1.216334\n",
      "24.  weights = 0.610670, -1.467160, 1.216334\n",
      "25.  weights = 0.610670, -1.467160, 1.216334\n",
      "26.  weights = 0.610670, -1.467160, 1.216334\n",
      "27.  weights = 0.610670, -1.467160, 1.216334\n",
      "28.  weights = 0.610670, -1.467160, 1.216334\n",
      "29.  weights = 0.610670, -1.467160, 1.216334\n",
      "30.  weights = 0.610670, -1.467160, 1.216334\n",
      "31.  weights = 0.610670, -1.467160, 1.216334\n",
      "32.  weights = 0.610670, -1.467160, 1.216334\n",
      "33.  weights = 0.610670, -1.467160, 1.216334\n",
      "34.  weights = 0.610670, -1.467160, 1.216334\n",
      "35.  weights = 0.610670, -1.467160, 1.216334\n",
      "36.  weights = 0.610670, -1.467160, 1.216334\n",
      "37.  weights = 0.610670, -1.467160, 1.216334\n",
      "38.  weights = 0.610670, -1.467160, 1.216334\n",
      "39.  weights = 0.610670, -1.467160, 1.216334\n",
      "40.  weights = 0.610670, -1.467160, 1.216334\n",
      "41.  weights = 0.610670, -1.467160, 1.216334\n",
      "42.  weights = 0.610670, -1.467160, 1.216334\n",
      "43.  weights = 0.610670, -1.467160, 1.216334\n",
      "44.  weights = 0.610670, -1.467160, 1.216334\n",
      "45.  weights = 0.610670, -1.467160, 1.216334\n",
      "46.  weights = 0.610670, -1.467160, 1.216334\n",
      "47.  weights = 0.610670, -1.467160, 1.216334\n",
      "48.  weights = 0.610670, -1.467160, 1.216334\n",
      "49.  weights = 0.610670, -1.467160, 1.216334\n"
     ]
    },
    {
     "data": {
      "image/png": "[encoded data removed]",
      "text/plain": [
       "<Figure size 720x576 with 1 Axes>"
      ]
     },
     "metadata": {},
     "output_type": "display_data"
    }
   ],
   "source": [
    "# Plot the corresponding pattern\n",
    "fig = plot_patterns(patterns,desired);\n",
    "plt.draw()\n",
    "# Update loop\n",
    "n=int(nPats)\n",
    "outputs=np.zeros(n)\n",
    "for k in range(50):\n",
    "    for i in range(n-1):\n",
    "\n",
    "        outputs[i]=inputs[0][i]*weights[0][0]+inputs[1][i]*weights[0][1]+bias #y tilde\n",
    "        if outputs[i]>=0:\n",
    "            outputs[i]=1\n",
    "        else:\n",
    "            outputs[i]=0\n",
    "        L=sum((desired-outputs)**2)+(lambdaW/(2*n))*sum(weights**2)           #Fct coût avec weight decay norme L2\n",
    "        weights[0][0]=weights[0][0]+eta*(desired[i]-outputs[i])*inputs[0][i]  #Actualisation poids 1\n",
    "        weights[0][1]=weights[0][1]+eta*(desired[i]-outputs[i])*inputs[1][i]  #Actualisation poids 2\n",
    "        bias=bias+eta*(desired[i]-outputs[i])  #Actualisation poids 1\n",
    "\n",
    "    print('%2d.  weights = %f, %f, %f' % (k, bias[0, 0], weights[0, 0], weights[0, 1]))\n",
    "    plot_boundary(np.concatenate((bias, weights), axis=1), i, '--', fig)\n",
    "    plt.draw()\n",
    "        #time.sleep(0.2)\n",
    "plot_boundary(np.concatenate((bias, weights), axis=1), i, '-', fig);"
   ]
  },
  {
   "cell_type": "markdown",
   "metadata": {},
   "source": [
    "Au plus le learning rate est faible, au plus l'apprentissage va être lent et donc les résultats seront fortement dépendants de l'état initial (ici aléatoire). Au plus il est important au plus l'algorithme sera modifié rapidement, au risque de changer complètement d'un essai à l'autre. Cela n'est pas dérangeant d'avoir un faible learning rate dans le cas d'une importante quantité de données.\n",
    "\n",
    "Il semble qu'au plus le weight decay est important, au plus l'algorithme s'autorisera des grands écarts avec ses valeurs précédentes.\n",
    "\n",
    "### 2-layer XOR problem\n",
    "\n",
    "In most cases, classification problems are far from being linear. Therefore, we need more advanced methods to be able to compute non-linear class boundaries. The advantage of neural networks is that the same principle can be applied in a *layer-wise* fashion. This allows to further discriminate the space in sub-regions (as seen in the course). We will try to implement the 2-layer *perceptron* that can provide a solution to the infamous XOR problem. The idea is now to have the output of the first neurons to be connected to a set of other neurons. Therefore, if we take back our previous formulation, we have the same output for the first neuron(s) $\\hat{y}$, that we will now term as $y^{(1)}$. Then, we feed these outputs to a second layer of neurons, which gives\n",
    "\n",
    "\n",
    "$$\n",
    "\\begin{equation}\n",
    "y^{(2)}=\\phi\\left(\\sum_{i = 1}^{n}w_{i}.y^{(1)}_{i} + b\\right)\n",
    "\\label{eq6}\n",
    "\\end{equation}\n",
    "$$  \n",
    "\n",
    "Finally, we will rely on the same loss $\\mathcal{L_{D}}$ as in the previous exercise, but the outputs used are $y_2$ instead of $y$. As in the previous case, we now need to compute the derivatives of the weights and biases for several layers . However, you should see that some form of generalization might be possible for any number of layer.  \n"
   ]
  },
  {
   "cell_type": "markdown",
   "metadata": {},
   "source": [
    "***\n",
    "\n",
    "**Exercise**  \n",
    "  1. Perform the derivatives for the last layer specifically\n",
    "  2. Define a generalized derivative for any previous layer\n",
    "\n",
    "***"
   ]
  },
  {
   "cell_type": "markdown",
   "metadata": {},
   "source": [
    "We can construct the prototypical set of XOR values by using the following code (note that this is the most simple case, but still this is typically a problem that cannot be solved by a _linear classifier_"
   ]
  },
  {
   "cell_type": "code",
   "execution_count": 6,
   "metadata": {},
   "outputs": [
    {
     "data": {
      "image/png": "[encoded data removed]",
      "text/plain": [
       "<Figure size 720x576 with 1 Axes>"
      ]
     },
     "metadata": {},
     "output_type": "display_data"
    }
   ],
   "source": [
    "patterns = np.array([[-1, -1],[-1,  1],[1, -1],[1,  1]]).transpose() # Input patterns\n",
    "desired = np.array([0, 1, 1, 0])                       # Corresponding classes\n",
    "# Initialize based on their sizes\n",
    "nInputs = patterns.shape[0]\n",
    "nOutputs = 1\n",
    "nPats = patterns.shape[1]\n",
    "# First plot the patterns\n",
    "fig = plot_patterns(patterns, desired);"
   ]
  },
  {
   "cell_type": "markdown",
   "metadata": {},
   "source": [
    "The variables that will be used by your code are the following.\n",
    "\n",
    "```Matlab\n",
    "patterns          % 2 x n matrix of random points\n",
    "desired           % classes of the patterns \n",
    "inputs1           % 3 x n final matrix of inputs (accounting for bias)\n",
    "nHiddens          % Number of hidden units\n",
    "learnRate         % Learning rate parameter\n",
    "momentum          % Momentum parameter (bonus)\n",
    "weights1          % 1st layer weights\n",
    "weights2          % 2nd layer weights\n",
    "TSS_Limit         % Sum-squared error limit\n",
    "```"
   ]
  },
  {
   "cell_type": "code",
   "execution_count": 7,
   "metadata": {},
   "outputs": [],
   "source": [
    "nHiddens = 2           # Number of hidden units\n",
    "learnRate = 0.001       # Learning rate parameter\n",
    "momentum = 0.1         # Momentum parameter\n",
    "# Overall input patterns\n",
    "inputs = patterns\n",
    "TSS_Limit = 0.4                                           # Sum-squared error limit\n",
    "# Learning rate\n",
    "eta = 0.005"
   ]
  },
  {
   "cell_type": "markdown",
   "metadata": {},
   "source": [
    "***\n",
    "\n",
    "**Exercise**  \n",
    "\n",
    "  1. Update the forward propagation and error computation (compared to desired).\n",
    "  2. Update the back-propagation part to learn the weights of both layers.\n",
    "  3. Run the learning, which should produce a result similar to that displayed below.\n",
    "  4. Perform multiple re-runs of the learning procedure (re-launching with different initializations)\n",
    "  5. What observations can you make on the learning process?\n",
    "  6. What happens if you initialize all weights to zeros?\n",
    "  7. (Optional) Implement the *sparsity* constraint in your neural network.\n",
    "  7. (Optional) Implement the *weight decay* constraint in your network.\n",
    "  7. (Optional) Add the *momentum* to the learning procedure.\n",
    "  \n",
    "*For optional questions, please look after the first code box for more information*\n",
    "\n",
    "***"
   ]
  },
  {
   "cell_type": "code",
   "execution_count": 16,
   "metadata": {},
   "outputs": [
    {
     "name": "stdout",
     "output_type": "stream",
     "text": [
      "(2, 1)\n"
     ]
    },
    {
     "data": {
      "image/png": "[encoded data removed]",
      "text/plain": [
       "<Figure size 720x576 with 1 Axes>"
      ]
     },
     "metadata": {},
     "output_type": "display_data"
    }
   ],
   "source": [
    "# Weights of first and second layer\n",
    "weights1 = (np.random.randn(nHiddens, nInputs) - 0.5)      # 1st layer weights\n",
    "weights2 = (np.random.randn(nOutputs, nHiddens) - 0.5)     # 2nd layer weights\n",
    "#weights1=0*weights1\n",
    "#weights2=0*weights2\n",
    "bias1 = (np.random.randn(nHiddens, 1) - 0.5)               # 1st layer biases\n",
    "bias2 = (np.random.randn(nOutputs, 1) - 0.5)               # 2nd layer biases\n",
    "# First plot the patterns\n",
    "fig = plot_patterns(patterns, desired);\n",
    "# Iterate for a fixed number of iterations\n",
    "n=int(nPats)\n",
    "outputs=np.zeros(n)\n",
    "print(np.shape(bias1))\n",
    "\n",
    "# Function for computing the Sigmoid activation\n",
    "def sigmoid(x):\n",
    "    return 1 / (1 + np.exp(-x))\n",
    "def dsigmoid(a):\n",
    "    return a * (1.0 - a)\n",
    "\n",
    "#for p in range(4):\n",
    "    #rep_pat=np.repeat(patterns[:,p][:,np.newaxis],200,axis=1)\n",
    "    #patterns.append(np.random.randn(2,200)*0.2+rep_pat)\n",
    "    #desired.append(np.repeat([desired[p]],200))\n",
    "#patterns=(np.concatenate(patterns,axis=1))\n",
    "#desired=(np.concatenate(desired))\n",
    "\n",
    "for epoch in range(100000):\n",
    "    #print(np.shape(bias1))\n",
    "    outputs1=np.dot(weights1,inputs)+bias1#y tilde\n",
    "    y1=sigmoid(outputs1)\n",
    "    outputs2=np.dot(weights2,y1)+bias2\n",
    "    y2=sigmoid(outputs2)\n",
    "    if np.sum(abs(desired-outputs2))==0:\n",
    "        break\n",
    "    \n",
    "    #L=sum((desired-outputs)**2)+(lambdaW/(2*n))*sum(weights**2)           #Fct coût avec weight decay norme L2\n",
    "    error2=y2-desired\n",
    "    \n",
    "    dO2=dsigmoid(y2)\n",
    "    dO1=dsigmoid(y1)\n",
    "    grad2bis=error2*dO2\n",
    "    grad2=np.dot(grad2bis,y1.T)\n",
    "    \n",
    "    grad1bis=np.dot(weights2.T,(grad2bis))*dO1\n",
    "    grad1=grad1bis.dot(inputs.T)\n",
    "    #print(np.shape(grad1))\n",
    "    weights2=weights2-eta*grad2\n",
    "    weights1=weights1-eta*grad1  #Actualisation poids\n",
    "    bias1=bias1+eta*np.mean(grad1bis, axis=1)[:, np.newaxis] #Actualisation bias\n",
    "    bias2=bias2+eta*np.mean(error2*dO2)\n",
    "    \n",
    "    TSS=np.sum(np.abs(y2-desired)**2)\n",
    "    #print('Epoch %3d:  Error = %f' % (epoch, TSS));\n",
    "    if TSS < TSS_Limit:\n",
    "        break\n",
    "    if (epoch - 1 % 20) == 0:\n",
    "        plot_boundary(np.concatenate((bias2, weights2), axis=1), epoch, '--', fig)\n",
    "\n",
    "plot_boundary(np.concatenate((bias1, weights1), axis=1), epoch, '-', fig)"
   ]
  },
  {
   "cell_type": "markdown",
   "metadata": {},
   "source": [
    "Fonctionne à peu près une fois sur trois.\n",
    "Le paramètre eta modifie la vitesse de l'apprentissage (voir précédent).\n",
    "Une TSS limit plus faible va affiner la bande obtenue par le calcul.\n",
    "En initialisant les poids à zéro, le calcul ne fonctionne pas.\n",
    "\n",
    "\n",
    "**Optional questions**\n",
    "\n",
    "2. *Weight decay* constraint\n",
    "\n",
    "As nothing constrains the weights in the network, we can note that usually all weights vector given a multiplicative factor might be equivalent, which can stall the learning (and lead to exploding weights). The *weight decay* allows to regularize the learning by penalizing weights with a too wide amplitude. The idea is to add this constraint as a term to the final loss (which leads to an indirect \"pressure\" on the learning process. Therefore, the final loss will be defined as\n",
    "\n",
    "$$\n",
    "\\begin{equation}\n",
    "\\mathcal{L}_{final}=\\mathcal{L_D} + \\lambda \\sum_{l} \\sum_{i} \\sum_{j} \\left( W_{ij}^{l} \\right)^{2}\n",
    "\\end{equation}\n",
    "$$\n",
    "\n",
    "where the parameter $\\lambda$ controls the relative importance of the two terms.\n",
    "\n",
    "3. *Momentum* in learning\n",
    "\n",
    "Usually, in complex problems, the gradient can be very noisy and, therefore, the learning might oscillate widely. In order to reduce this problem, we can *smooth* the different gradient updates by retaining the values of the gradient at each iteration and then performing an update based on the latest gradient $\\delta_{i}^{t}$ and the gradient at the previous iteration $\\delta_{i}^{t-1}$. Therefore, a gradient update is applied as\n",
    "\n",
    "$$\n",
    "\\begin{equation}\n",
    "\\delta_{final}^{t} = \\delta_{i}^{t} + m.\\delta_{i}^{t-1}\n",
    "\\end{equation}\n",
    "$$\n",
    "\n",
    "with $m$ the momentum parameter, which control the amount of gradient smoothing."
   ]
  },
  {
   "cell_type": "markdown",
   "metadata": {},
   "source": [
    "## 3-layer audio classification\n",
    "\n",
    "Finally, we will attack a complete audio classification problem and try to perform neural network learning on a set of audio files. The data structure will be the same as the one used for parts 1 and 2. As discussed during the courses, even though a 2-layer neural network can provide non-linear boundaries, it can not perform \"holes\" inside those regions. In order to obtain an improved classification, we will now rely on a 3-layer neural network. The modification to the code of section 3.2 should be minimal, as the back-propagation will be similar for the new layer as one of the two others. We do not develop the math here as it is simply a re-application of the previous rules with an additional layer (which derivatives you should have generalized in the previous exercise).  \n",
    "\n",
    "However, up until now, we only performed *binary classification* problems, but this time we need to obtain a decision rule for multiple classes. Therefore, we cannot rely on simply computing the distance between desired patterns and the obtained binary value. The idea here is to rely on the *softmax regression*, by considering classes as a vector of probabilities. The desired answers will therefore be considered as a set of *probabilities*, where the desired class is $1$ and the others are $0$ (called *one-hot* representation). Then, the cost function will rely on the softmax formulation\n",
    "\n",
    "$$\n",
    "\\begin{equation}\n",
    "\\mathcal{L_D}(\\theta) = - \\frac{1}{m} \\left[ \\sum_{i=1}^{m} \\sum_{j=1}^{k} 1\\left\\{y^{(i)} = j\\right\\} log \\frac{e^{\\theta_{j}^{T} x^{(i)}}}{\\sum_{l=1}^{k} e^{ \\theta_{l}^{T} x^{(i)} }}  \\right]\n",
    "\\end{equation}\n",
    "$$\n",
    "\n",
    "Therefore, we compute the output of the softmax by taking \n",
    "\n",
    "$$\n",
    "\\begin{equation}\n",
    "p(y^{(i)} = j | x^{(i)}; \\theta) = \\frac{e^{\\theta_{j}^{T} x^{(i)}}}{\\sum_{l=1}^{k} e^{ \\theta_{l}^{T} x^{(i)}} }\n",
    "\\end{equation}\n",
    "$$\n",
    "\n",
    "By taking derivatives, we can show that the gradient of the softmax layer is\n",
    "\n",
    "$$\n",
    "\\begin{equation}\n",
    "\\nabla_{\\theta_{j}} \\mathcal{L_D}(\\theta) = - \\frac{1}{m} \\sum_{i=1}^{m}{ \\left[ x^{(i)} \\left( 1\\{ y^{(i)} = j\\}  - p(y^{(i)} = j \\mid x^{(i)}, \\theta) \\right) \\right]}\n",
    "\\end{equation}\n",
    "$$"
   ]
  },
  {
   "cell_type": "markdown",
   "metadata": {},
   "source": [
    "### Sweet activation functions\n",
    "\n",
    "As discussed in the course, the interest of stacking layers is that there is an _activation function_, which allows non-linear interactions between the dimensions (and avoids to only compute a single huge affine transform). Although the `sigmoid` function has been historically the most used, there has been some large developments since. Notably the `ReLU` (Rectified Linear Unit) is one of the major difference in modern networks (we will see more about that in a later course)"
   ]
  },
  {
   "cell_type": "code",
   "execution_count": 9,
   "metadata": {},
   "outputs": [],
   "source": [
    "# Function for computing the Sigmoid activation\n",
    "def sigmoid(x):\n",
    "    return 1 / (1 + np.exp(-x))\n",
    "def dsigmoid(a):\n",
    "    return a * (1.0 - a)\n",
    "# Function for computing the ReLU activation\n",
    "def relu(x):\n",
    "    return np.maximum(0, x)\n",
    "def drelu(x):\n",
    "    return 1 / (1 + np.exp(-x))\n",
    "# Function for computing the Tanh activation\n",
    "def tanh(x):\n",
    "    return np.tanh(x);\n",
    "def dtanh(x): \n",
    "    return np.cosh(x) ^ -2"
   ]
  },
  {
   "cell_type": "markdown",
   "metadata": {},
   "source": [
    "Here, we plot some simple examples of what these activation functions look like. You can try to rely on these functions in your previous training code and witness the differences in training.\n"
   ]
  },
  {
   "cell_type": "code",
   "execution_count": 10,
   "metadata": {},
   "outputs": [
    {
     "data": {
      "image/png": "[encoded data removed]",
      "text/plain": [
       "<Figure size 1296x360 with 3 Axes>"
      ]
     },
     "metadata": {},
     "output_type": "display_data"
    }
   ],
   "source": [
    "from helper_plot import prep_plots, finalize_plots\n",
    "funcs = [('sigmoid',sigmoid,'red'), ('tanh',tanh,'orange'), ('relu',relu,'yellow')]\n",
    "axes = prep_plots([funcs[0][0], funcs[1][0], funcs[2][0]], fig_size=(18,5), fig_num=1)\n",
    "x_plot = np.linspace(-5,5,100)\n",
    "np.maximum(0, x_plot)\n",
    "for f in range(3):\n",
    "    axes[f].plot(x_plot, funcs[f][1](x_plot), color=funcs[f][2], linewidth=4, label=funcs[f][0])\n",
    "finalize_plots(axes, fig_title=\"Activation functions\")"
   ]
  },
  {
   "cell_type": "markdown",
   "metadata": {},
   "source": [
    "## Coding the whole network from scratch\n",
    "\n",
    "You should now have all the tools necessary to apply neural networks from scratch to a more complex problem. In the following exercise, we simply removed any guideline code, and you need to code all the procedure for training a NN and **apply it to audio data**. You will use the spectral features discussed in the previous exercise as an input.\n",
    "\n",
    "***\n",
    "\n",
    "**Exercise**\n",
    "\n",
    "  1. Based on the previous neural network, upgrade the code to a 3-layer neural network\n",
    "  2. Implement the *softmax regression* on top of your 3-layer network\n",
    "  3. Use the provided code to perform classification on a pre-defined set of features\n",
    "  4. As previously, change the set of features to assess their different accuracies\n",
    "  5. Evaluate the neural network accuracy for all features combinations\n",
    "  6. What happens if the learning rate is too large ? What is this phenomenon ?\n",
    "  7. (Optional) Perform a more advanced visualization of the learning process.\n",
    "  \n",
    "***"
   ]
  },
  {
   "cell_type": "code",
   "execution_count": 1,
   "metadata": {},
   "outputs": [
    {
     "name": "stdout",
     "output_type": "stream",
     "text": [
      "    - Importing dataset data/classification.\n",
      "\n",
      "    - Performing transforms.\n",
      "    - Performing features.\n",
      "[[2.62447249e+03 2.62622120e+03 2.25927804e+03 ... 2.80638388e+03\n",
      "  3.09165786e+03 2.01452555e+03]\n",
      " [1.59579704e+03 1.50664495e+03 1.56859705e+03 ... 1.75468012e+03\n",
      "  2.15130575e+03 1.85465741e+03]\n",
      " [3.07632639e+01 2.98607882e+01 2.83245094e+01 ... 2.13655134e+01\n",
      "  2.19245213e+01 2.16604048e+01]\n",
      " [2.88589895e-02 7.45606944e-02 8.12034979e-02 ... 1.26772486e-02\n",
      "  2.63538561e-03 5.08551893e-04]\n",
      " [4.28481643e+03 4.21731771e+03 3.88803516e+03 ... 4.89750653e+03\n",
      "  5.66886042e+03 4.17524821e+03]]\n"
     ]
    }
   ],
   "source": [
    "import numpy as np\n",
    "%matplotlib inline\n",
    "import matplotlib.pyplot as plt\n",
    "from helper_data import import_dataset\n",
    "from helper_data import compute_features\n",
    "from helper_data import compute_transforms\n",
    "\n",
    "# 0.1 - Import the classification dataset\n",
    "class_path = 'data/classification';\n",
    "data_struct = import_dataset(class_path, 'classification');\n",
    "\n",
    "bwah=len(data_struct[\"classes\"])\n",
    "desired=np.zeros((16,bwah))\n",
    "patterns=np.zeros((5,bwah))\n",
    "\n",
    "data_struct = compute_transforms(data_struct);\n",
    "data_struct = compute_features(data_struct);\n",
    "a=0;\n",
    "for i in data_struct[\"classes\"]:\n",
    "    desired[i,a]=1;\n",
    "    patterns[0,a]=np.mean(data_struct[\"spectral_centroid\"][a])\n",
    "    patterns[1,a]=np.mean(data_struct[\"spectral_bandwidth\"][a])\n",
    "    patterns[2,a]=np.mean(data_struct[\"spectral_contrast\"][a])\n",
    "    patterns[3,a]=np.mean(data_struct[\"spectral_flatness\"][a])\n",
    "    patterns[4,a]=np.mean(data_struct[\"spectral_rolloff\"][a])\n",
    "    a=a+1\n",
    "print(patterns)\n",
    "# Initialize based on their sizes\n",
    "nInputs = patterns.shape[0]\n",
    "nOutputs = 16\n",
    "nPats = patterns.shape[1]"
   ]
  },
  {
   "cell_type": "code",
   "execution_count": 2,
   "metadata": {},
   "outputs": [
    {
     "ename": "NameError",
     "evalue": "name 'inputs' is not defined",
     "output_type": "error",
     "traceback": [
      "\u001b[1;31m---------------------------------------------------------------------------\u001b[0m",
      "\u001b[1;31mNameError\u001b[0m                                 Traceback (most recent call last)",
      "\u001b[1;32m~\\AppData\\Local\\Temp/ipykernel_3016/2670152154.py\u001b[0m in \u001b[0;36m<module>\u001b[1;34m\u001b[0m\n\u001b[0;32m     18\u001b[0m \u001b[1;33m\u001b[0m\u001b[0m\n\u001b[0;32m     19\u001b[0m         \u001b[1;31m#print(np.shape(bias1))\u001b[0m\u001b[1;33m\u001b[0m\u001b[1;33m\u001b[0m\u001b[0m\n\u001b[1;32m---> 20\u001b[1;33m     \u001b[0moutputs1\u001b[0m\u001b[1;33m=\u001b[0m\u001b[0mnp\u001b[0m\u001b[1;33m.\u001b[0m\u001b[0mdot\u001b[0m\u001b[1;33m(\u001b[0m\u001b[0mweights1\u001b[0m\u001b[1;33m,\u001b[0m\u001b[0minputs\u001b[0m\u001b[1;33m)\u001b[0m\u001b[1;33m+\u001b[0m\u001b[0mbias1\u001b[0m\u001b[1;31m#y tilde\u001b[0m\u001b[1;33m\u001b[0m\u001b[1;33m\u001b[0m\u001b[0m\n\u001b[0m\u001b[0;32m     21\u001b[0m     \u001b[0my1\u001b[0m\u001b[1;33m=\u001b[0m\u001b[0msigmoid\u001b[0m\u001b[1;33m(\u001b[0m\u001b[0moutputs1\u001b[0m\u001b[1;33m)\u001b[0m\u001b[1;33m\u001b[0m\u001b[1;33m\u001b[0m\u001b[0m\n\u001b[0;32m     22\u001b[0m     \u001b[0moutputs2\u001b[0m\u001b[1;33m=\u001b[0m\u001b[0mnp\u001b[0m\u001b[1;33m.\u001b[0m\u001b[0mdot\u001b[0m\u001b[1;33m(\u001b[0m\u001b[0mweights2\u001b[0m\u001b[1;33m,\u001b[0m\u001b[0my1\u001b[0m\u001b[1;33m)\u001b[0m\u001b[1;33m+\u001b[0m\u001b[0mbias2\u001b[0m\u001b[1;33m\u001b[0m\u001b[1;33m\u001b[0m\u001b[0m\n",
      "\u001b[1;31mNameError\u001b[0m: name 'inputs' is not defined"
     ]
    }
   ],
   "source": [
    "nHiddens = 2           # Number of hidden units\n",
    "nHiddens2 = 4\n",
    "learnRate = 0.001       # Learning rate parameter\n",
    "momentum = 0.1         # Momentum parameter\n",
    "\n",
    "\n",
    "# Weights of first and second layer\n",
    "weights1 = (np.random.randn(nHiddens, nInputs) - 0.5)      # 1st layer weights\n",
    "weights2 = (np.random.randn(nHiddens2, nHiddens) - 0.5)     # 2nd layer weights\n",
    "weights3 = (np.random.randn(nOutputs, nHiddens2) - 0.5)     # 3rd layer weights\n",
    "\n",
    "\n",
    "bias1 = (np.random.randn(nHiddens, 1) - 0.5)               # 1st layer biases\n",
    "bias2 = (np.random.randn(nHiddens2, 1) - 0.5)               # 2nd layer biases\n",
    "bias3 = (np.random.randn(nOutputs, 1) - 0.5)               # 3rd layer biases\n",
    "\n",
    "for epoch in range(500):\n",
    "    \n",
    "        #print(np.shape(bias1))\n",
    "    outputs1=np.dot(weights1,inputs)+bias1#y tilde\n",
    "    y1=sigmoid(outputs1)\n",
    "    outputs2=np.dot(weights2,y1)+bias2\n",
    "    y2=sigmoid(outputs2)\n",
    "    outputs3=np.dot(weights3,y2)+bias3\n",
    "    y3=sigmoid(outputs3)\n",
    "    if np.sum(abs(desired-outputs2))==0:\n",
    "        break\n",
    "    \n",
    "    #L=sum((desired-outputs)**2)+(lambdaW/(2*n))*sum(weights**2)           #Fct coût avec weight decay norme L2\n",
    "    error2=y2-desired\n",
    "    \n",
    "    dO2=dsigmoid(y2)\n",
    "    dO1=dsigmoid(y1)\n",
    "    grad2bis=error2*dO2\n",
    "    grad2=np.dot(grad2bis,y1.T)\n",
    "    \n",
    "    grad1bis=np.dot(weights2.T,(grad2bis))*dO1\n",
    "    grad1=grad1bis.dot(inputs.T)\n",
    "    #print(np.shape(grad1))\n",
    "    weights2=weights2-eta*grad2\n",
    "    weights1=weights1-eta*grad1  #Actualisation poids\n",
    "    bias1=bias1+eta*np.mean(grad1bis, axis=1)[:, np.newaxis] #Actualisation bias\n",
    "    bias2=bias2+eta*np.mean(error2*dO2)\n",
    "    \n",
    "    TSS=np.sum(np.abs(y2-desired)**2)\n",
    "    \n",
    "    print('Epoch %3d:  Error = %f\\n' % epoch, TSS);\n",
    "    if TSS < TSS_Limit:\n",
    "        break\n",
    "plo_boundary(np.concatenate(bias1, weights1), epoch, '-');"
   ]
  },
  {
   "cell_type": "markdown",
   "metadata": {},
   "source": [
    "## Using Pytorch to enjoy life\n",
    "\n",
    "Up to now, we have been writing every operations by ourselves (in order to better understand the mathematics behind NN). However, there exists of course some simplifying libraries that provide large simplifications to this question.\n",
    "\n",
    "One of the most powerful and complete library of this sort is `Pytorch`, which has been developed for several years (even prior to the recent boom of deep learning). `Pytorch` provides a large set of pre-coded layers, but also **computational graphs** and **autograd**, which are very powerful paradigms allowing to define complex operators and automatically taking derivatives.\n",
    "\n",
    "### Defining our network\n",
    "\n",
    "When building neural networks we frequently think of arranging the computation into layers, some of which have learnable parameters which will be optimized during learning. In `PyTorch`, the `nn` package provides higher-level abstractions over raw computational graphs that are useful for building neural networks. The `nn` package defines a set of `Modules`, which are roughly equivalent to neural network layers. A `Module` receives input `Tensors` and computes output `Tensors`, but may also hold internal state such as `Tensors` containing learnable parameters. The nn package also defines a set of useful loss functions that are commonly used when training neural networks.\n",
    "\n",
    "In the following example, we use the `nn` package to show how easy it is to instantiate our previous three-layers network"
   ]
  },
  {
   "cell_type": "code",
   "execution_count": 3,
   "metadata": {},
   "outputs": [],
   "source": [
    "import torch\n",
    "# Define the input dimensions\n",
    "in_size = 1000\n",
    "# Number of neurons in a layer\n",
    "hidden_size = 100\n",
    "# Output (target) dimension\n",
    "output_size = 10\n",
    "# Use the nn package to define our model and loss function.\n",
    "model = torch.nn.Sequential(\n",
    "    torch.nn.Linear(in_size, hidden_size),\n",
    "    torch.nn.ReLU(),\n",
    "    torch.nn.Linear(hidden_size, hidden_size),\n",
    "    torch.nn.ReLU(),\n",
    "    torch.nn.Linear(hidden_size, output_size),\n",
    "    torch.nn.Softmax(dim=1)\n",
    ")"
   ]
  },
  {
   "cell_type": "markdown",
   "metadata": {},
   "source": [
    "### Optimizing the network\n",
    "\n",
    "Up to this point we have updated the weights of our models by manually performing the gradient descent algorithm (changing the parameters vectors). Although this is not a huge burden for simple optimization algorithms like stochastic gradient descent, in practice we often train neural networks using more sophisticated optimizers like AdaGrad, RMSProp or Adam (that we will see later in this course)\n",
    "\n",
    "The `optim` package in PyTorch abstracts the idea of an optimization algorithm and provides implementations of commonly used optimization algorithms, and greatly simplfies the training loop associated with training a neural network.\n",
    "\n",
    "For the sake of presentation we will use random inputs $\\mathbf{x}$ that should be matched with random outputs $\\mathbf{y}$"
   ]
  },
  {
   "cell_type": "code",
   "execution_count": 4,
   "metadata": {},
   "outputs": [],
   "source": [
    "batch_size = 64\n",
    "N=100\n",
    "D_in=1000\n",
    "D_out=10\n",
    "# Create random Tensors to hold inputs and outputs\n",
    "x = torch.randn(N, D_in)\n",
    "y = torch.randn(N, D_out)"
   ]
  },
  {
   "cell_type": "markdown",
   "metadata": {},
   "source": [
    "In the following example we optimize the model using the Adam algorithm provided by the `optim` package, based on a `MSE` loss."
   ]
  },
  {
   "cell_type": "code",
   "execution_count": 5,
   "metadata": {},
   "outputs": [
    {
     "name": "stdout",
     "output_type": "stream",
     "text": [
      "stop\n"
     ]
    }
   ],
   "source": [
    "# Learning rate\n",
    "learning_rate = 1e-4\n",
    "# Loss function that we will use\n",
    "loss_fn = torch.nn.MSELoss(reduction='sum')\n",
    "# Optimizer to fit the weights of the network\n",
    "optimizer = torch.optim.Adam(model.parameters(), lr=learning_rate)\n",
    "for t in range(500):\n",
    "    # Forward pass: compute predicted y by passing x to the model.\n",
    "    y_pred = model(x)\n",
    "    # Compute the loss.\n",
    "    loss = loss_fn(y_pred, y)\n",
    "    # Before the backward pass, zero all of the network gradients\n",
    "    optimizer.zero_grad()\n",
    "    # Backward pass: compute gradient of the loss with respect to parameters\n",
    "    loss.backward()\n",
    "    # Calling the step function to update the parameters\n",
    "    optimizer.step()\n",
    "print(\"stop\")"
   ]
  },
  {
   "cell_type": "markdown",
   "metadata": {
    "tags": []
   },
   "source": [
    "## Using Pytorch to classify audio\n",
    "\n",
    "Now that we know the main components of `Pytorch` to define and optimize networks, your assignement is to define a complete classification problem from audio data, by relying on this toolbox\n",
    "\n",
    "***\n",
    "\n",
    "**Exercise**\n",
    "\n",
    "  1. Use `Pytorch` to define a model for audio classification\n",
    "  2. Import the audio features dataset and check that your model produces an output\n",
    "  3. Write the optimization loop (think carefully about the _loss function_\n",
    "  4. As previously, change the set of features to assess their different accuracies\n",
    "  5. Think of how you could use more complex features (time series, audio, STFT) to classify your data\n",
    "  \n",
    "***"
   ]
  },
  {
   "cell_type": "code",
   "execution_count": 6,
   "metadata": {},
   "outputs": [
    {
     "name": "stdout",
     "output_type": "stream",
     "text": [
      "    - Importing dataset data/classification.\n",
      "\n",
      "    - Performing transforms.\n",
      "    - Performing features.\n",
      "[[2.62447249e+03 2.62622120e+03 2.25927804e+03 ... 2.80638388e+03\n",
      "  3.09165786e+03 2.01452555e+03]\n",
      " [1.59579704e+03 1.50664495e+03 1.56859705e+03 ... 1.75468012e+03\n",
      "  2.15130575e+03 1.85465741e+03]\n",
      " [3.07632639e+01 2.98607882e+01 2.83245094e+01 ... 2.13655134e+01\n",
      "  2.19245213e+01 2.16604048e+01]\n",
      " [2.88589895e-02 7.45606944e-02 8.12034979e-02 ... 1.26772486e-02\n",
      "  2.63538561e-03 5.08551893e-04]\n",
      " [4.28481643e+03 4.21731771e+03 3.88803516e+03 ... 4.89750653e+03\n",
      "  5.66886042e+03 4.17524821e+03]]\n"
     ]
    }
   ],
   "source": [
    "import numpy as np\n",
    "%matplotlib inline\n",
    "import matplotlib.pyplot as plt\n",
    "from helper_data import import_dataset\n",
    "from helper_data import compute_features\n",
    "from helper_data import compute_transforms\n",
    "\n",
    "# 0.1 - Import the classification dataset\n",
    "class_path = 'data/classification';\n",
    "data_struct = import_dataset(class_path, 'classification');\n",
    "\n",
    "bwah=len(data_struct[\"classes\"])\n",
    "desired=np.zeros((16,bwah))\n",
    "patterns=np.zeros((5,bwah))\n",
    "\n",
    "data_struct = compute_transforms(data_struct);\n",
    "data_struct = compute_features(data_struct);\n",
    "a=0;\n",
    "for i in data_struct[\"classes\"]:\n",
    "    desired[i,a]=1;\n",
    "    patterns[0,a]=np.mean(data_struct[\"spectral_centroid\"][a])\n",
    "    patterns[1,a]=np.mean(data_struct[\"spectral_bandwidth\"][a])\n",
    "    patterns[2,a]=np.mean(data_struct[\"spectral_contrast\"][a])\n",
    "    patterns[3,a]=np.mean(data_struct[\"spectral_flatness\"][a])\n",
    "    patterns[4,a]=np.mean(data_struct[\"spectral_rolloff\"][a])\n",
    "    a=a+1\n",
    "print(patterns)"
   ]
  },
  {
   "cell_type": "code",
   "execution_count": 7,
   "metadata": {},
   "outputs": [
    {
     "name": "stdout",
     "output_type": "stream",
     "text": [
      "tensor([[0.0227, 0.0021, 0.0024,  ..., 0.0022, 0.0019, 0.0019],\n",
      "        [0.0175, 0.0018, 0.0021,  ..., 0.0018, 0.0015, 0.0016],\n",
      "        [0.0159, 0.0015, 0.0017,  ..., 0.0014, 0.0012, 0.0014],\n",
      "        ...,\n",
      "        [0.0209, 0.0019, 0.0023,  ..., 0.0020, 0.0016, 0.0018],\n",
      "        [0.0200, 0.0019, 0.0022,  ..., 0.0019, 0.0015, 0.0017],\n",
      "        [0.0214, 0.0020, 0.0023,  ..., 0.0021, 0.0017, 0.0018]],\n",
      "       grad_fn=<SoftmaxBackward0>)\n"
     ]
    }
   ],
   "source": [
    "import torch\n",
    "# Define the input dimensions\n",
    "in_size = 6\n",
    "# Number of neurons in a layer\n",
    "hidden_size = 100\n",
    "# Output (target) dimension\n",
    "output_size = 16\n",
    "# Use the nn package to define our model and loss function.\n",
    "model = torch.nn.Sequential(\n",
    "    torch.nn.Linear(in_size, hidden_size),\n",
    "    torch.nn.Sigmoid(),\n",
    "    torch.nn.Linear(hidden_size, hidden_size),\n",
    "    torch.nn.Sigmoid(),\n",
    "    torch.nn.Linear(hidden_size, output_size),\n",
    "    torch.nn.Softmax(dim=1)\n",
    ")\n",
    "\n",
    "batch_size = 64\n",
    "N=410\n",
    "D_in=in_size\n",
    "D_out=output_size\n",
    "# Create random Tensors to hold inputs and outputs\n",
    "x = torch.randn(N, D_in)\n",
    "y = torch.randn(N, D_out)\n",
    "\n",
    "# Learning rate\n",
    "learning_rate = 1e-4\n",
    "# Loss function that we will use\n",
    "#loss_fn = torch.nn.MSELoss(reduction='sum')\n",
    "loss_fn = torch.nn.CrossEntropyLoss()\n",
    "#loss_fn = torch.nn.NLLLoss()\n",
    "# Optimizer to fit the weights of the network\n",
    "optimizer = torch.optim.Adam(model.parameters(), lr=learning_rate)\n",
    "for t in range(500):\n",
    "    # Forward pass: compute predicted y by passing x to the model.\n",
    "    y_pred = model(x)\n",
    "    # Compute the loss.\n",
    "    loss = loss_fn(y_pred, y)\n",
    "    # Before the backward pass, zero all of the network gradients\n",
    "    optimizer.zero_grad()\n",
    "    # Backward pass: compute gradient of the loss with respect to parameters\n",
    "    loss.backward()\n",
    "    # Calling the step function to update the parameters\n",
    "    optimizer.step()\n",
    "print(y_pred)"
   ]
  },
  {
   "cell_type": "code",
   "execution_count": 11,
   "metadata": {},
   "outputs": [
    {
     "name": "stdout",
     "output_type": "stream",
     "text": [
      "tensor([0.0208, 0.0019, 0.0023, 0.2156, 0.0016, 0.0015, 0.0015, 0.0028, 0.4536,\n",
      "        0.0030, 0.0023, 0.2833, 0.0044, 0.0020, 0.0017, 0.0018],\n",
      "       grad_fn=<SliceBackward0>)\n",
      "tensor(1., grad_fn=<AddBackward0>)\n"
     ]
    },
    {
     "ename": "NameError",
     "evalue": "name 'show2D' is not defined",
     "output_type": "error",
     "traceback": [
      "\u001b[1;31m---------------------------------------------------------------------------\u001b[0m",
      "\u001b[1;31mNameError\u001b[0m                                 Traceback (most recent call last)",
      "\u001b[1;32m~\\AppData\\Local\\Temp/ipykernel_3016/3228026654.py\u001b[0m in \u001b[0;36m<module>\u001b[1;34m\u001b[0m\n\u001b[0;32m      1\u001b[0m \u001b[0mprint\u001b[0m\u001b[1;33m(\u001b[0m\u001b[0my_pred\u001b[0m\u001b[1;33m[\u001b[0m\u001b[1;36m400\u001b[0m\u001b[1;33m,\u001b[0m\u001b[1;33m:\u001b[0m\u001b[1;33m]\u001b[0m\u001b[1;33m)\u001b[0m\u001b[1;33m\u001b[0m\u001b[1;33m\u001b[0m\u001b[0m\n\u001b[0;32m      2\u001b[0m \u001b[0mprint\u001b[0m\u001b[1;33m(\u001b[0m\u001b[0msum\u001b[0m\u001b[1;33m(\u001b[0m\u001b[0my_pred\u001b[0m\u001b[1;33m[\u001b[0m\u001b[1;36m15\u001b[0m\u001b[1;33m,\u001b[0m\u001b[1;33m:\u001b[0m\u001b[1;33m]\u001b[0m\u001b[1;33m)\u001b[0m\u001b[1;33m)\u001b[0m\u001b[1;33m\u001b[0m\u001b[1;33m\u001b[0m\u001b[0m\n\u001b[1;32m----> 3\u001b[1;33m \u001b[0mshow2D\u001b[0m\u001b[1;33m(\u001b[0m\u001b[0my_pred\u001b[0m\u001b[1;33m)\u001b[0m\u001b[1;33m\u001b[0m\u001b[1;33m\u001b[0m\u001b[0m\n\u001b[0m",
      "\u001b[1;31mNameError\u001b[0m: name 'show2D' is not defined"
     ]
    }
   ],
   "source": [
    "print(y_pred[400,:])  \n",
    "print(sum(y_pred[15,:])) "
   ]
  },
  {
   "cell_type": "code",
   "execution_count": null,
   "metadata": {},
   "outputs": [],
   "source": []
  }
 ],
 "metadata": {
  "kernelspec": {
   "display_name": "Python 3 (ipykernel)",
   "language": "python",
   "name": "python3"
  },
  "language_info": {
   "codemirror_mode": {
    "name": "ipython",
    "version": 3
   },
   "file_extension": ".py",
   "mimetype": "text/x-python",
   "name": "python",
   "nbconvert_exporter": "python",
   "pygments_lexer": "ipython3",
   "version": "3.9.7"
  }
 },
 "nbformat": 4,
 "nbformat_minor": 4
}
